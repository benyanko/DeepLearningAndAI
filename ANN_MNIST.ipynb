{
  "nbformat": 4,
  "nbformat_minor": 0,
  "metadata": {
    "colab": {
      "name": "ANN MNIST.ipynb",
      "provenance": [],
      "collapsed_sections": [],
      "authorship_tag": "ABX9TyPCqc6Ox99AQ1Sew0dITK9k",
      "include_colab_link": true
    },
    "kernelspec": {
      "name": "python3",
      "display_name": "Python 3"
    }
  },
  "cells": [
    {
      "cell_type": "markdown",
      "metadata": {
        "id": "view-in-github",
        "colab_type": "text"
      },
      "source": [
        "<a href=\"https://colab.research.google.com/github/benyanko/DeepLearningAndAI/blob/main/ANN_MNIST.ipynb\" target=\"_parent\"><img src=\"https://colab.research.google.com/assets/colab-badge.svg\" alt=\"Open In Colab\"/></a>"
      ]
    },
    {
      "cell_type": "markdown",
      "metadata": {
        "id": "z2TnDXDvG2o0"
      },
      "source": [
        "# **Handwritten Digits Classification using ANN**\n",
        "Take an input image (28x28 pixels) of a handwritten single digit (0–9) and classify the image as the appropriate digit.\n"
      ]
    },
    {
      "cell_type": "code",
      "metadata": {
        "id": "_keskaurH1ca"
      },
      "source": [
        "import tensorflow as tf\n",
        "import matplotlib.pyplot as plt\n",
        "from sklearn.metrics import confusion_matrix\n",
        "import numpy as np\n",
        "import itertools"
      ],
      "execution_count": 29,
      "outputs": []
    },
    {
      "cell_type": "markdown",
      "metadata": {
        "id": "oSkvW0f9H6OA"
      },
      "source": [
        "# Load data\n"
      ]
    },
    {
      "cell_type": "code",
      "metadata": {
        "colab": {
          "base_uri": "https://localhost:8080/"
        },
        "id": "kKC9oaGmIOhC",
        "outputId": "6d424692-a753-4641-b175-048f75edc1d3"
      },
      "source": [
        "mnist = tf.keras.datasets.mnist\n",
        "\n",
        "(x_train, y_train), (x_test, y_test) = mnist.load_data() # data returns two tuple \n",
        "x_train, x_test = x_train / 255.0, x_test / 255.0 # Normalize values ​​in the range of 0 to 1 \n",
        "\n",
        "print(\"x_train shape: \", x_train.shape) "
      ],
      "execution_count": 20,
      "outputs": [
        {
          "output_type": "stream",
          "text": [
            "x_train shape:  (60000, 28, 28)\n"
          ],
          "name": "stdout"
        }
      ]
    },
    {
      "cell_type": "markdown",
      "metadata": {
        "id": "R5C_lxwxKIMg"
      },
      "source": [
        "# Build The Model"
      ]
    },
    {
      "cell_type": "code",
      "metadata": {
        "id": "g1Aiv1VrKMsq"
      },
      "source": [
        "# First layer flattens the input.\n",
        "# Dense layer with 128 units (hyperparameter selection) - dimensionality of the output space, activation ReLU - f(x)=max(0,x).\n",
        "# Dropout layer randomly sets input units to 0 with a frequency of rate at each step during training time, which helps prevent overfitting.\n",
        "# Dense layer with 10 units for our 10 clasess (0-9), activation 'Softmax' - output is therefore a probability distribution (maps our output to a [0,1] range).\n",
        "\n",
        "model = tf.keras.models.Sequential([\n",
        "  tf.keras.layers.Flatten(input_shape=(28, 28)),\n",
        "  tf.keras.layers.Dense(128, activation='relu'),\n",
        "  tf.keras.layers.Dropout(0.2),\n",
        "  tf.keras.layers.Dense(10, activation='softmax')\n",
        "])\n"
      ],
      "execution_count": 21,
      "outputs": []
    },
    {
      "cell_type": "markdown",
      "metadata": {
        "id": "t2MUlWcQQE_y"
      },
      "source": [
        "# Compile The Model"
      ]
    },
    {
      "cell_type": "code",
      "metadata": {
        "id": "12ahHV06QIta"
      },
      "source": [
        "# Compile defines the loss function, the optimizer and the metrics.\n",
        "# Adam optimization is a stochastic gradient descent method.\n",
        "# Cost func is sparse_categorical_crossentropy because we expect labels to be provided as integers\n",
        "# Metric functions is accuracy which calculates how often predictions equal labels\n",
        "\n",
        "model.compile(optimizer='adam',\n",
        "              loss='sparse_categorical_crossentropy',\n",
        "              metrics=['accuracy'])"
      ],
      "execution_count": 22,
      "outputs": []
    },
    {
      "cell_type": "markdown",
      "metadata": {
        "id": "mm1N41ppTzae"
      },
      "source": [
        "#Train The Model"
      ]
    },
    {
      "cell_type": "code",
      "metadata": {
        "colab": {
          "base_uri": "https://localhost:8080/"
        },
        "id": "AZu8BBqBT2BU",
        "outputId": "5cb80180-bae5-4424-bbbc-1a344fbc7ecc"
      },
      "source": [
        "# Train data - x_train, y_train\n",
        "# Validation data - x_test, y_test\n",
        "# epochs=10 - \"one pass over the entire dataset\", used to separate training into distinct phases\n",
        "\n",
        "r = model.fit(x_train, y_train, validation_data=(x_test, y_test), epochs=10)"
      ],
      "execution_count": 23,
      "outputs": [
        {
          "output_type": "stream",
          "text": [
            "Epoch 1/10\n",
            "1875/1875 [==============================] - 5s 2ms/step - loss: 0.4789 - accuracy: 0.8599 - val_loss: 0.1393 - val_accuracy: 0.9580\n",
            "Epoch 2/10\n",
            "1875/1875 [==============================] - 4s 2ms/step - loss: 0.1564 - accuracy: 0.9544 - val_loss: 0.0986 - val_accuracy: 0.9696\n",
            "Epoch 3/10\n",
            "1875/1875 [==============================] - 4s 2ms/step - loss: 0.1095 - accuracy: 0.9659 - val_loss: 0.0850 - val_accuracy: 0.9734\n",
            "Epoch 4/10\n",
            "1875/1875 [==============================] - 5s 2ms/step - loss: 0.0837 - accuracy: 0.9744 - val_loss: 0.0757 - val_accuracy: 0.9771\n",
            "Epoch 5/10\n",
            "1875/1875 [==============================] - 5s 2ms/step - loss: 0.0724 - accuracy: 0.9764 - val_loss: 0.0701 - val_accuracy: 0.9784\n",
            "Epoch 6/10\n",
            "1875/1875 [==============================] - 4s 2ms/step - loss: 0.0622 - accuracy: 0.9807 - val_loss: 0.0751 - val_accuracy: 0.9767\n",
            "Epoch 7/10\n",
            "1875/1875 [==============================] - 4s 2ms/step - loss: 0.0551 - accuracy: 0.9826 - val_loss: 0.0692 - val_accuracy: 0.9803\n",
            "Epoch 8/10\n",
            "1875/1875 [==============================] - 4s 2ms/step - loss: 0.0515 - accuracy: 0.9826 - val_loss: 0.0691 - val_accuracy: 0.9796\n",
            "Epoch 9/10\n",
            "1875/1875 [==============================] - 4s 2ms/step - loss: 0.0448 - accuracy: 0.9851 - val_loss: 0.0666 - val_accuracy: 0.9812\n",
            "Epoch 10/10\n",
            "1875/1875 [==============================] - 4s 2ms/step - loss: 0.0435 - accuracy: 0.9853 - val_loss: 0.0694 - val_accuracy: 0.9791\n"
          ],
          "name": "stdout"
        }
      ]
    },
    {
      "cell_type": "markdown",
      "metadata": {
        "id": "Oaady44xVTs7"
      },
      "source": [
        "#Plots"
      ]
    },
    {
      "cell_type": "code",
      "metadata": {
        "colab": {
          "base_uri": "https://localhost:8080/",
          "height": 282
        },
        "id": "4WhJf7yrVjRo",
        "outputId": "458d62f1-af5f-4f6b-df05-47946e52d092"
      },
      "source": [
        "# Plot loss per iteration\n",
        "\n",
        "plt.plot(r.history['loss'], label='loss')\n",
        "plt.plot(r.history['val_loss'], label='val_loss')\n",
        "plt.legend()"
      ],
      "execution_count": 24,
      "outputs": [
        {
          "output_type": "execute_result",
          "data": {
            "text/plain": [
              "<matplotlib.legend.Legend at 0x7fa7be3fdd68>"
            ]
          },
          "metadata": {
            "tags": []
          },
          "execution_count": 24
        },
        {
          "output_type": "display_data",
          "data": {
            "image/png": "[encoded data removed]",
            "text/plain": [
              "<Figure size 432x288 with 1 Axes>"
            ]
          },
          "metadata": {
            "tags": [],
            "needs_background": "light"
          }
        }
      ]
    },
    {
      "cell_type": "code",
      "metadata": {
        "colab": {
          "base_uri": "https://localhost:8080/",
          "height": 282
        },
        "id": "JZsWADzLWGkD",
        "outputId": "c7bd795f-1edb-467f-c6fd-ae928c0d4987"
      },
      "source": [
        "#plot accuracy per iteration\n",
        "\n",
        "plt.plot(r.history['accuracy'], label='accuracy')\n",
        "plt.plot(r.history['val_accuracy'], label='val_accuracy')\n",
        "plt.legend()"
      ],
      "execution_count": 25,
      "outputs": [
        {
          "output_type": "execute_result",
          "data": {
            "text/plain": [
              "<matplotlib.legend.Legend at 0x7fa7bd1d5e80>"
            ]
          },
          "metadata": {
            "tags": []
          },
          "execution_count": 25
        },
        {
          "output_type": "display_data",
          "data": {
            "image/png": "[encoded data removed]",
            "text/plain": [
              "<Figure size 432x288 with 1 Axes>"
            ]
          },
          "metadata": {
            "tags": [],
            "needs_background": "light"
          }
        }
      ]
    },
    {
      "cell_type": "code",
      "metadata": {
        "colab": {
          "base_uri": "https://localhost:8080/"
        },
        "id": "I9UypzAzW5mD",
        "outputId": "618a471f-0eab-4167-89f0-4d7454eb54aa"
      },
      "source": [
        "# Evaluate the model\n",
        "\n",
        "print(model.evaluate(x_test, y_test))"
      ],
      "execution_count": 26,
      "outputs": [
        {
          "output_type": "stream",
          "text": [
            "313/313 [==============================] - 0s 1ms/step - loss: 0.0694 - accuracy: 0.9791\n",
            "[0.06937950104475021, 0.9790999889373779]\n"
          ],
          "name": "stdout"
        }
      ]
    },
    {
      "cell_type": "code",
      "metadata": {
        "colab": {
          "base_uri": "https://localhost:8080/",
          "height": 498
        },
        "id": "U80zIEVLXJ4u",
        "outputId": "0ae120ae-2a79-4c3a-bfcb-3a5a7d3353b4"
      },
      "source": [
        "# Plot confusion matrix\n",
        "\n",
        "# This function prints and plots the confusion matrix.\n",
        "# Normalization can be applied by setting 'normalize=True'.\n",
        "\n",
        "def plot_confusion_matrix(cm, classes, normalize=False, title='Confusion Matrix', cmap=plt.cm.Blues):\n",
        "  if normalize:\n",
        "    cm = cm.astype('float') / cm.sum(axis=1) [:, np.newaxis]\n",
        "    print (\"Normalizrd Confusion Matrix\")\n",
        "  else:\n",
        "        print (\"Confusion Matrix, without Normalization\")\n",
        "\n",
        "  print(cm)\n",
        "\n",
        "  plt.imshow(cm, interpolation='nearest', cmap=cmap)\n",
        "  plt.title(title)\n",
        "  plt.colorbar()\n",
        "  tick_marks = np.arange(len(classes))\n",
        "  plt.xticks(tick_marks, classes, rotation=45)\n",
        "  plt.yticks(tick_marks, classes)\n",
        "\n",
        "  fmt = '.2f' if normalize else 'd'\n",
        "  thresh = cm.max() / 2.\n",
        "  for i, j in itertools.product(range(cm.shape[0]), range(cm.shape[1])):\n",
        "    plt.text(j, i, format(cm[i, j], fmt), horizontalalignment='center', color='white' if cm[i, j] > thresh else 'black')\n",
        "\n",
        "  plt.tight_layout()\n",
        "  plt.ylabel('True label')\n",
        "  plt.xlabel('Predicted label')\n",
        "  plt.show()\n",
        "\n",
        "p_test = model.predict(x_test).argmax(axis=1)\n",
        "cm = confusion_matrix(y_test, p_test)\n",
        "plot_confusion_matrix(cm, list(range(10)))\n",
        "\n"
      ],
      "execution_count": 32,
      "outputs": [
        {
          "output_type": "stream",
          "text": [
            "Confusion Matrix, without Normalization\n",
            "[[ 972    0    2    1    0    1    2    1    1    0]\n",
            " [   0 1122    3    2    0    0    2    0    6    0]\n",
            " [   2    1 1010    2    4    0    3    6    2    2]\n",
            " [   0    0    3  990    1    2    0    4    3    7]\n",
            " [   1    0    5    0  967    0    3    2    0    4]\n",
            " [   2    0    0    7    2  874    3    1    1    2]\n",
            " [   5    3    1    1    5    5  936    1    1    0]\n",
            " [   1    4    5    4    0    0    0 1009    1    4]\n",
            " [   6    0    1    6    4    9    1    6  936    5]\n",
            " [   1    4    0    5   13    3    0    8    0  975]]\n"
          ],
          "name": "stdout"
        },
        {
          "output_type": "display_data",
          "data": {
            "image/png": "[encoded data removed]",
            "text/plain": [
              "<Figure size 432x288 with 2 Axes>"
            ]
          },
          "metadata": {
            "tags": [],
            "needs_background": "light"
          }
        }
      ]
    },
    {
      "cell_type": "markdown",
      "metadata": {
        "id": "8hofZRQqfHez"
      },
      "source": [
        "It can be seen that the results make sense.\n",
        "The pairs that are easy to confuse are indeed digits whose visibility is very similar.\n",
        "For example:\n",
        "```\n",
        "9 <--> 4\n",
        "9 <--> 7\n",
        "2 <--> 7\n",
        "```\n",
        "\n",
        "\n",
        "\n"
      ]
    },
    {
      "cell_type": "code",
      "metadata": {
        "colab": {
          "base_uri": "https://localhost:8080/",
          "height": 281
        },
        "id": "60lnjBemgcXm",
        "outputId": "3a9ad3ef-5c7f-45a8-9179-6f17b1fb8d60"
      },
      "source": [
        "# Show some misclassified examples\n",
        "\n",
        "misclassified_index = np.where(p_test != y_test)[0]\n",
        "i = np.random.choice(misclassified_idx)\n",
        "plt.imshow(x_test[i], cmap='gray')\n",
        "plt.title(\"True label: %s Predicted: %s\" % (y_test[i], p_test[i]));"
      ],
      "execution_count": 36,
      "outputs": [
        {
          "output_type": "display_data",
          "data": {
            "image/png": "[encoded data removed]",
            "text/plain": [
              "<Figure size 432x288 with 1 Axes>"
            ]
          },
          "metadata": {
            "tags": [],
            "needs_background": "light"
          }
        }
      ]
    },
    {
      "cell_type": "code",
      "metadata": {
        "id": "C-4PxyMvgQXH"
      },
      "source": [
        ""
      ],
      "execution_count": null,
      "outputs": []
    }
  ]
}
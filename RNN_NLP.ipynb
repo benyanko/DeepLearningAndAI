{
  "nbformat": 4,
  "nbformat_minor": 0,
  "metadata": {
    "colab": {
      "name": "RNN_NLP.ipynb",
      "provenance": [],
      "collapsed_sections": [],
      "authorship_tag": "ABX9TyM0dLj6CMGEIxYdXwRtDTgP",
      "include_colab_link": true
    },
    "kernelspec": {
      "name": "python3",
      "display_name": "Python 3"
    }
  },
  "cells": [
    {
      "cell_type": "markdown",
      "metadata": {
        "id": "view-in-github",
        "colab_type": "text"
      },
      "source": [
        "<a href=\"https://colab.research.google.com/github/benyanko/DeepLearningAndAI/blob/main/RNN_NLP.ipynb\" target=\"_parent\"><img src=\"https://colab.research.google.com/assets/colab-badge.svg\" alt=\"Open In Colab\"/></a>"
      ]
    },
    {
      "cell_type": "markdown",
      "metadata": {
        "id": "lsXp8ZttOOWR"
      },
      "source": [
        "# **Spam Detection with LSTMs**\n",
        "Detecting Spam Messages and text Classification with LSTMs"
      ]
    },
    {
      "cell_type": "code",
      "metadata": {
        "id": "L7nCrW6PQFvy"
      },
      "source": [
        "import tensorflow as tf\n",
        "import pandas as pd\n",
        "import matplotlib.pyplot as plt\n",
        "from sklearn.model_selection import train_test_split\n",
        "\n",
        "from tensorflow.keras.preprocessing.text import Tokenizer\n",
        "from tensorflow.keras.preprocessing.sequence import pad_sequences\n",
        "from tensorflow.keras.layers import Dense, Input, GlobalMaxPooling1D\n",
        "from tensorflow.keras.layers import LSTM, Embedding\n",
        "from tensorflow.keras.models import Model"
      ],
      "execution_count": 1,
      "outputs": []
    },
    {
      "cell_type": "markdown",
      "metadata": {
        "id": "qaWfnExGQRsF"
      },
      "source": [
        "# Load Data"
      ]
    },
    {
      "cell_type": "code",
      "metadata": {
        "colab": {
          "base_uri": "https://localhost:8080/"
        },
        "id": "BEMi1aenQX18",
        "outputId": "ba1d3eef-54a0-4355-f317-c119ad391ae1"
      },
      "source": [
        "!wget -nc https://lazyprogrammer.me/course_files/spam.csv"
      ],
      "execution_count": 2,
      "outputs": [
        {
          "output_type": "stream",
          "text": [
            "--2021-02-24 19:25:11--  https://lazyprogrammer.me/course_files/spam.csv\n",
            "Resolving lazyprogrammer.me (lazyprogrammer.me)... 104.21.23.210, 172.67.213.166, 2606:4700:3031::6815:17d2, ...\n",
            "Connecting to lazyprogrammer.me (lazyprogrammer.me)|104.21.23.210|:443... connected.\n",
            "HTTP request sent, awaiting response... 200 OK\n",
            "Length: 503663 (492K) [text/csv]\n",
            "Saving to: ‘spam.csv’\n",
            "\n",
            "spam.csv            100%[===================>] 491.86K   845KB/s    in 0.6s    \n",
            "\n",
            "2021-02-24 19:25:13 (845 KB/s) - ‘spam.csv’ saved [503663/503663]\n",
            "\n"
          ],
          "name": "stdout"
        }
      ]
    },
    {
      "cell_type": "code",
      "metadata": {
        "id": "pZHHG8G1Qc_E"
      },
      "source": [
        "df = pd.read_csv('spam.csv', encoding='ISO-8859-1')\n",
        "\n",
        "# drop unnecessary columns\n",
        "df = df.drop([\"Unnamed: 2\", \"Unnamed: 3\", \"Unnamed: 4\"], axis=1)\n",
        "\n",
        "# rename columns to something better\n",
        "df.columns = ['labels', 'data']\n",
        "\n",
        "# create binary labels\n",
        "df['b_labels'] = df['labels'].map({'ham': 0, 'spam': 1})\n",
        "Y = df['b_labels'].values\n",
        "\n",
        "# split up the data\n",
        "df_train, df_test, Ytrain, Ytest = train_test_split(df['data'], Y, test_size=0.33)"
      ],
      "execution_count": 3,
      "outputs": []
    },
    {
      "cell_type": "markdown",
      "metadata": {
        "id": "27SFy9GXQ4HP"
      },
      "source": [
        "# Convert sentences to sequences\n"
      ]
    },
    {
      "cell_type": "code",
      "metadata": {
        "id": "DCUR5hf_Rcyn"
      },
      "source": [
        "# Max vocab size - the max size of words we save in our tokenizer\n",
        "# Tokenizer - convert string into list of tokens, and convert list of tokens into list of integers\n",
        "\n",
        "MAX_VOCAB_SIZE = 20000\n",
        "tokenizer = Tokenizer(num_words=MAX_VOCAB_SIZE)\n",
        "tokenizer.fit_on_texts(df_train)\n",
        "sequences_train = tokenizer.texts_to_sequences(df_train)\n",
        "sequences_test = tokenizer.texts_to_sequences(df_test)"
      ],
      "execution_count": 4,
      "outputs": []
    },
    {
      "cell_type": "code",
      "metadata": {
        "id": "sK352WidTGkA"
      },
      "source": [
        "# get word -> integer mapping\n",
        "word2idx = tokenizer.word_index\n",
        "V = len(word2idx)"
      ],
      "execution_count": 5,
      "outputs": []
    },
    {
      "cell_type": "code",
      "metadata": {
        "id": "adh1b7UVTHln"
      },
      "source": [
        "# Pad sequences - fit all sequences to same len.\n",
        "# pad sequences so that we get a N x T matrix\n",
        "data_train = pad_sequences(sequences_train)\n",
        "\n",
        "# get sequence length\n",
        "T = data_train.shape[1]\n",
        "\n",
        "data_test = pad_sequences(sequences_test, maxlen=T)"
      ],
      "execution_count": 6,
      "outputs": []
    },
    {
      "cell_type": "markdown",
      "metadata": {
        "id": "AAKNT5GNYR_J"
      },
      "source": [
        "# Build The Model"
      ]
    },
    {
      "cell_type": "code",
      "metadata": {
        "id": "m11RRlYBYSir"
      },
      "source": [
        "\n",
        "# We get to choose embedding dimensionality\n",
        "D = 20\n",
        "\n",
        "# Hidden state dimensionality\n",
        "M = 15\n",
        "\n",
        "# Embeding layer - maps sequence of integer into sequence of word vector.\n",
        "# The size of the embedding is (V + 1) x D, because the first index starts from 1 and not 0.\n",
        "# LSTM layer - return_sequences: return the full sequence.\n",
        "# GlobalMaxPooling1D layer - Downsamples the input representation by taking the maximum value over the time dimension\n",
        "# Dense layer - with 1 unit, activation 'sgmoid'.\n",
        "\n",
        "\n",
        "i = Input(shape=(T,))\n",
        "x = Embedding(V + 1, D)(i)\n",
        "x = LSTM(M, return_sequences=True)(x)\n",
        "x = GlobalMaxPooling1D()(x)\n",
        "x = Dense(1, activation='sigmoid')(x)\n",
        "\n",
        "model = Model(i, x)\n"
      ],
      "execution_count": 7,
      "outputs": []
    },
    {
      "cell_type": "markdown",
      "metadata": {
        "id": "eH-IXCDffB9S"
      },
      "source": [
        "# Compile The Model"
      ]
    },
    {
      "cell_type": "code",
      "metadata": {
        "id": "n5YuuqJ6fCrH"
      },
      "source": [
        "# Compile defines the loss function, the optimizer and the metrics.\n",
        "# Adam optimization is a stochastic gradient descent method.\n",
        "# Cost func is binary_crossentropy because we using Sigmoid.\n",
        "# Metric functions is accuracy which calculates how often predictions equal labels\n",
        "\n",
        "model.compile(\n",
        "  optimizer='adam',\n",
        "  loss='binary_crossentropy',\n",
        "  metrics=['accuracy']\n",
        ")"
      ],
      "execution_count": 8,
      "outputs": []
    },
    {
      "cell_type": "markdown",
      "metadata": {
        "id": "3D7cVocufc5d"
      },
      "source": [
        "#Train The Model"
      ]
    },
    {
      "cell_type": "code",
      "metadata": {
        "colab": {
          "base_uri": "https://localhost:8080/"
        },
        "id": "VXkZtE_Ifgn6",
        "outputId": "0ce925fa-405e-48f1-8bd3-5ca030e90db1"
      },
      "source": [
        "# Train data - data_train, Ytrain\n",
        "# Validation data - data_test, Ytest\n",
        "# epochs=10 - \"one pass over the entire dataset\", used to separate training into distinct phases\n",
        "\n",
        "r = model.fit(\n",
        "  data_train,\n",
        "  Ytrain,\n",
        "  epochs=10,\n",
        "  validation_data=(data_test, Ytest)\n",
        ")"
      ],
      "execution_count": 9,
      "outputs": [
        {
          "output_type": "stream",
          "text": [
            "Epoch 1/10\n",
            "117/117 [==============================] - 9s 59ms/step - loss: 0.5607 - accuracy: 0.8640 - val_loss: 0.4058 - val_accuracy: 0.8592\n",
            "Epoch 2/10\n",
            "117/117 [==============================] - 6s 51ms/step - loss: 0.3867 - accuracy: 0.8694 - val_loss: 0.4036 - val_accuracy: 0.8592\n",
            "Epoch 3/10\n",
            "117/117 [==============================] - 6s 51ms/step - loss: 0.3783 - accuracy: 0.8717 - val_loss: 0.3814 - val_accuracy: 0.8592\n",
            "Epoch 4/10\n",
            "117/117 [==============================] - 6s 51ms/step - loss: 0.3538 - accuracy: 0.8667 - val_loss: 0.3343 - val_accuracy: 0.8592\n",
            "Epoch 5/10\n",
            "117/117 [==============================] - 6s 50ms/step - loss: 0.2878 - accuracy: 0.8736 - val_loss: 0.1849 - val_accuracy: 0.9685\n",
            "Epoch 6/10\n",
            "117/117 [==============================] - 6s 50ms/step - loss: 0.1211 - accuracy: 0.9858 - val_loss: 0.1047 - val_accuracy: 0.9788\n",
            "Epoch 7/10\n",
            "117/117 [==============================] - 6s 51ms/step - loss: 0.0488 - accuracy: 0.9953 - val_loss: 0.0764 - val_accuracy: 0.9799\n",
            "Epoch 8/10\n",
            "117/117 [==============================] - 6s 50ms/step - loss: 0.0334 - accuracy: 0.9932 - val_loss: 0.0776 - val_accuracy: 0.9815\n",
            "Epoch 9/10\n",
            "117/117 [==============================] - 6s 50ms/step - loss: 0.0167 - accuracy: 0.9973 - val_loss: 0.0788 - val_accuracy: 0.9810\n",
            "Epoch 10/10\n",
            "117/117 [==============================] - 6s 52ms/step - loss: 0.0128 - accuracy: 0.9985 - val_loss: 0.0721 - val_accuracy: 0.9804\n"
          ],
          "name": "stdout"
        }
      ]
    },
    {
      "cell_type": "markdown",
      "metadata": {
        "id": "K_gL62Pff9lf"
      },
      "source": [
        "# Plots"
      ]
    },
    {
      "cell_type": "code",
      "metadata": {
        "colab": {
          "base_uri": "https://localhost:8080/",
          "height": 282
        },
        "id": "OUdYI9bQf-6W",
        "outputId": "03f6a91d-d211-4f5b-f69a-ae38b889889a"
      },
      "source": [
        "# Plot loss per iteration\n",
        "import matplotlib.pyplot as plt\n",
        "plt.plot(r.history['loss'], label='loss')\n",
        "plt.plot(r.history['val_loss'], label='val_loss')\n",
        "plt.legend()"
      ],
      "execution_count": 10,
      "outputs": [
        {
          "output_type": "execute_result",
          "data": {
            "text/plain": [
              "<matplotlib.legend.Legend at 0x7f04a7b74f90>"
            ]
          },
          "metadata": {
            "tags": []
          },
          "execution_count": 10
        },
        {
          "output_type": "display_data",
          "data": {
            "image/png": "[encoded data removed]",
            "text/plain": [
              "<Figure size 432x288 with 1 Axes>"
            ]
          },
          "metadata": {
            "tags": [],
            "needs_background": "light"
          }
        }
      ]
    },
    {
      "cell_type": "code",
      "metadata": {
        "colab": {
          "base_uri": "https://localhost:8080/",
          "height": 282
        },
        "id": "8Yfyg7pUgDxG",
        "outputId": "8f1a8fde-0cdf-485d-8b25-b031ac89fae3"
      },
      "source": [
        "# Plot accuracy per iteration\n",
        "plt.plot(r.history['accuracy'], label='acc')\n",
        "plt.plot(r.history['val_accuracy'], label='val_acc')\n",
        "plt.legend()"
      ],
      "execution_count": 11,
      "outputs": [
        {
          "output_type": "execute_result",
          "data": {
            "text/plain": [
              "<matplotlib.legend.Legend at 0x7f04a7ae0f50>"
            ]
          },
          "metadata": {
            "tags": []
          },
          "execution_count": 11
        },
        {
          "output_type": "display_data",
          "data": {
            "image/png": "[encoded data removed]",
            "text/plain": [
              "<Figure size 432x288 with 1 Axes>"
            ]
          },
          "metadata": {
            "tags": [],
            "needs_background": "light"
          }
        }
      ]
    }
  ]
}
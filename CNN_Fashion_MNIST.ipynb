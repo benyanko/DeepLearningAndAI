{
  "nbformat": 4,
  "nbformat_minor": 0,
  "metadata": {
    "colab": {
      "name": "CNN_Fashion_MNIST.ipynb",
      "provenance": [],
      "collapsed_sections": [],
      "authorship_tag": "ABX9TyN0Mx1CmKaI9OrX4Tl5DIDZ",
      "include_colab_link": true
    },
    "kernelspec": {
      "name": "python3",
      "display_name": "Python 3"
    }
  },
  "cells": [
    {
      "cell_type": "markdown",
      "metadata": {
        "id": "view-in-github",
        "colab_type": "text"
      },
      "source": [
        "<a href=\"https://colab.research.google.com/github/benyanko/DeepLearningAndAI/blob/main/CNN_Fashion_MNIST.ipynb\" target=\"_parent\"><img src=\"https://colab.research.google.com/assets/colab-badge.svg\" alt=\"Open In Colab\"/></a>"
      ]
    },
    {
      "cell_type": "markdown",
      "metadata": {
        "id": "Q5kKWAjFGWim"
      },
      "source": [
        "# **Fashion Classification using CNN**\n",
        "Take an input image (28x28 pixels) of a fashion item and classify fashion images and categories.\n"
      ]
    },
    {
      "cell_type": "code",
      "metadata": {
        "id": "dwdCD98yHYv4"
      },
      "source": [
        "import tensorflow as tf\n",
        "import numpy as np\n",
        "import matplotlib.pyplot as plt\n",
        "from tensorflow.keras.layers import Input, Conv2D, Dense, Flatten, Dropout\n",
        "from tensorflow.keras.models import Model\n",
        "from sklearn.metrics import confusion_matrix\n",
        "import itertools"
      ],
      "execution_count": 16,
      "outputs": []
    },
    {
      "cell_type": "markdown",
      "metadata": {
        "id": "WicLyMeWIVPd"
      },
      "source": [
        "# Load Data"
      ]
    },
    {
      "cell_type": "code",
      "metadata": {
        "colab": {
          "base_uri": "https://localhost:8080/"
        },
        "id": "Fj_QphE0IRHr",
        "outputId": "a8c26f0c-5c2b-43f5-e60d-bed8f943f253"
      },
      "source": [
        "fashion_mnist = tf.keras.datasets.fashion_mnist\n",
        "\n",
        "(x_train, y_train), (x_test, y_test) = fashion_mnist.load_data() # data returns two tuple \n",
        "x_train, x_test = x_train / 255.0, x_test / 255.0 # Normalize values ​​in the range of 0 to 1 \n",
        "\n",
        "print(\"x_train shape: \", x_train.shape) "
      ],
      "execution_count": 3,
      "outputs": [
        {
          "output_type": "stream",
          "text": [
            "x_train shape:  (60000, 28, 28)\n"
          ],
          "name": "stdout"
        }
      ]
    },
    {
      "cell_type": "code",
      "metadata": {
        "colab": {
          "base_uri": "https://localhost:8080/"
        },
        "id": "zaAxr80sI3Ho",
        "outputId": "0c4d3507-3a4b-4350-c2a8-d1a6d593d62f"
      },
      "source": [
        "# Data is only 2D\n",
        "# Convolution expects height x width x color\n",
        "\n",
        "x_train = np.expand_dims(x_train, -1)\n",
        "x_test = np.expand_dims(x_test, -1)\n",
        "\n",
        "print(x_train.shape)"
      ],
      "execution_count": 4,
      "outputs": [
        {
          "output_type": "stream",
          "text": [
            "(60000, 28, 28, 1)\n"
          ],
          "name": "stdout"
        }
      ]
    },
    {
      "cell_type": "code",
      "metadata": {
        "colab": {
          "base_uri": "https://localhost:8080/"
        },
        "id": "W6DOr78HJcVT",
        "outputId": "88dab1eb-78b5-4a9b-9807-bf5ec839b656"
      },
      "source": [
        "# Number of classes\n",
        "\n",
        "K = len(set(y_train))\n",
        "print(\"Number of classesL \", K)"
      ],
      "execution_count": 6,
      "outputs": [
        {
          "output_type": "stream",
          "text": [
            "Number of classesL  10\n"
          ],
          "name": "stdout"
        }
      ]
    },
    {
      "cell_type": "markdown",
      "metadata": {
        "id": "aIFxK23RJp1d"
      },
      "source": [
        "# Build The Model\n",
        "Build the model using the functional API"
      ]
    },
    {
      "cell_type": "code",
      "metadata": {
        "id": "-UsrAZeCJx8S"
      },
      "source": [
        "# Conv2D layer -\n",
        "# (Dimensionality of the output space,\n",
        "# Filter dimensions,\n",
        "# Strides determines how much the filter window shifts by in each of the dimensions - The image dimensions get reduce by half after each conv\n",
        "# Activation func = ReLU - f(x)=max(0,x))\n",
        "\n",
        "#Flatten layer - convert the image to a feature vector\n",
        "\n",
        "# Dropout layer - randomly sets input units to 0 with a frequency of rate at each step during training time, which helps prevent overfitting.\n",
        "\n",
        "# Dense layer with 512 units (hyperparameter selection) - dimensionality of the output space, activation ReLU - f(x)=max(0,x).\n",
        "\n",
        "# Dense layer with K units for our K clasess, activation 'Softmax' - output is therefore a probability distribution (maps our output to a [0,1] range).\n",
        "\n",
        "\n",
        "i = Input(shape=x_train[0].shape)\n",
        "x = Conv2D(32, (3, 3), strides=2, activation='relu')(i)\n",
        "x = Conv2D(64, (3, 3), strides=2, activation='relu')(x)\n",
        "x = Conv2D(128, (3, 3), strides=2, activation='relu')(x)\n",
        "x = Flatten()(x)\n",
        "x = Dropout(0.2)(x)\n",
        "x = Dense(512, activation='relu')(x)\n",
        "x = Dropout(0.2)(x)\n",
        "x = Dense(K, activation='softmax')(x)\n",
        "\n",
        "model = Model(i, x)"
      ],
      "execution_count": 7,
      "outputs": []
    },
    {
      "cell_type": "markdown",
      "metadata": {
        "id": "-HDKbLPNbl35"
      },
      "source": [
        "# Compile The Model"
      ]
    },
    {
      "cell_type": "code",
      "metadata": {
        "id": "o-oDjbNVbqas"
      },
      "source": [
        "# Compile defines the loss function, the optimizer and the metrics.\n",
        "# Adam optimization is a stochastic gradient descent method.\n",
        "# Cost func is sparse_categorical_crossentropy because we expect labels to be provided as integers\n",
        "# Metric functions is accuracy which calculates how often predictions equal labels\n",
        "\n",
        "model.compile(optimizer='adam',\n",
        "              loss='sparse_categorical_crossentropy',\n",
        "              metrics=['accuracy'])"
      ],
      "execution_count": 8,
      "outputs": []
    },
    {
      "cell_type": "markdown",
      "metadata": {
        "id": "NPLRZMF2b88e"
      },
      "source": [
        "#Train The Model"
      ]
    },
    {
      "cell_type": "code",
      "metadata": {
        "colab": {
          "base_uri": "https://localhost:8080/"
        },
        "id": "lEeCgGAxb_ux",
        "outputId": "2a18776b-50d9-4c90-f619-28ebf347187a"
      },
      "source": [
        "# Train data - x_train, y_train\n",
        "# Validation data - x_test, y_test\n",
        "# epochs=15 - \"one pass over the entire dataset\", used to separate training into distinct phases\n",
        "\n",
        "r = model.fit(x_train, y_train, validation_data=(x_test, y_test), epochs=15)"
      ],
      "execution_count": 9,
      "outputs": [
        {
          "output_type": "stream",
          "text": [
            "Epoch 1/15\n",
            "1875/1875 [==============================] - 31s 16ms/step - loss: 0.6992 - accuracy: 0.7444 - val_loss: 0.4164 - val_accuracy: 0.8445\n",
            "Epoch 2/15\n",
            "1875/1875 [==============================] - 30s 16ms/step - loss: 0.3801 - accuracy: 0.8593 - val_loss: 0.3539 - val_accuracy: 0.8678\n",
            "Epoch 3/15\n",
            "1875/1875 [==============================] - 30s 16ms/step - loss: 0.3239 - accuracy: 0.8788 - val_loss: 0.3295 - val_accuracy: 0.8802\n",
            "Epoch 4/15\n",
            "1875/1875 [==============================] - 30s 16ms/step - loss: 0.2801 - accuracy: 0.8928 - val_loss: 0.3071 - val_accuracy: 0.8892\n",
            "Epoch 5/15\n",
            "1875/1875 [==============================] - 30s 16ms/step - loss: 0.2514 - accuracy: 0.9042 - val_loss: 0.2970 - val_accuracy: 0.8938\n",
            "Epoch 6/15\n",
            "1875/1875 [==============================] - 30s 16ms/step - loss: 0.2280 - accuracy: 0.9138 - val_loss: 0.3079 - val_accuracy: 0.8912\n",
            "Epoch 7/15\n",
            "1875/1875 [==============================] - 29s 16ms/step - loss: 0.2088 - accuracy: 0.9215 - val_loss: 0.2970 - val_accuracy: 0.8953\n",
            "Epoch 8/15\n",
            "1875/1875 [==============================] - 29s 16ms/step - loss: 0.1921 - accuracy: 0.9271 - val_loss: 0.3057 - val_accuracy: 0.8962\n",
            "Epoch 9/15\n",
            "1875/1875 [==============================] - 29s 15ms/step - loss: 0.1761 - accuracy: 0.9334 - val_loss: 0.3066 - val_accuracy: 0.8971\n",
            "Epoch 10/15\n",
            "1875/1875 [==============================] - 29s 15ms/step - loss: 0.1628 - accuracy: 0.9375 - val_loss: 0.3043 - val_accuracy: 0.9033\n",
            "Epoch 11/15\n",
            "1875/1875 [==============================] - 28s 15ms/step - loss: 0.1520 - accuracy: 0.9415 - val_loss: 0.3159 - val_accuracy: 0.9020\n",
            "Epoch 12/15\n",
            "1875/1875 [==============================] - 28s 15ms/step - loss: 0.1436 - accuracy: 0.9443 - val_loss: 0.3228 - val_accuracy: 0.9001\n",
            "Epoch 13/15\n",
            "1875/1875 [==============================] - 30s 16ms/step - loss: 0.1304 - accuracy: 0.9489 - val_loss: 0.3361 - val_accuracy: 0.9015\n",
            "Epoch 14/15\n",
            "1875/1875 [==============================] - 28s 15ms/step - loss: 0.1272 - accuracy: 0.9516 - val_loss: 0.3451 - val_accuracy: 0.8955\n",
            "Epoch 15/15\n",
            "1875/1875 [==============================] - 28s 15ms/step - loss: 0.1230 - accuracy: 0.9535 - val_loss: 0.3564 - val_accuracy: 0.8971\n"
          ],
          "name": "stdout"
        }
      ]
    },
    {
      "cell_type": "markdown",
      "metadata": {
        "id": "n-_WWyMSdOYj"
      },
      "source": [
        "#Plots"
      ]
    },
    {
      "cell_type": "code",
      "metadata": {
        "colab": {
          "base_uri": "https://localhost:8080/",
          "height": 282
        },
        "id": "vp6cb0oAdPGj",
        "outputId": "ed04e321-f9ba-42ea-fdc1-181a1a50e34e"
      },
      "source": [
        "# Plot loss per iteration\n",
        "\n",
        "plt.plot(r.history['loss'], label='loss')\n",
        "plt.plot(r.history['val_loss'], label='val_loss')\n",
        "plt.legend()"
      ],
      "execution_count": 10,
      "outputs": [
        {
          "output_type": "execute_result",
          "data": {
            "text/plain": [
              "<matplotlib.legend.Legend at 0x7f427befd518>"
            ]
          },
          "metadata": {
            "tags": []
          },
          "execution_count": 10
        },
        {
          "output_type": "display_data",
          "data": {
            "image/png": "[encoded data removed]",
            "text/plain": [
              "<Figure size 432x288 with 1 Axes>"
            ]
          },
          "metadata": {
            "tags": [],
            "needs_background": "light"
          }
        }
      ]
    },
    {
      "cell_type": "code",
      "metadata": {
        "colab": {
          "base_uri": "https://localhost:8080/",
          "height": 282
        },
        "id": "my-prSC9dRkS",
        "outputId": "341e864a-e000-4cdc-d960-6bc40df4b71e"
      },
      "source": [
        "#plot accuracy per iteration\n",
        "\n",
        "plt.plot(r.history['accuracy'], label='accuracy')\n",
        "plt.plot(r.history['val_accuracy'], label='val_accuracy')\n",
        "plt.legend()"
      ],
      "execution_count": 11,
      "outputs": [
        {
          "output_type": "execute_result",
          "data": {
            "text/plain": [
              "<matplotlib.legend.Legend at 0x7f427b9d1940>"
            ]
          },
          "metadata": {
            "tags": []
          },
          "execution_count": 11
        },
        {
          "output_type": "display_data",
          "data": {
            "image/png": "[encoded data removed]",
            "text/plain": [
              "<Figure size 432x288 with 1 Axes>"
            ]
          },
          "metadata": {
            "tags": [],
            "needs_background": "light"
          }
        }
      ]
    },
    {
      "cell_type": "code",
      "metadata": {
        "colab": {
          "base_uri": "https://localhost:8080/",
          "height": 498
        },
        "id": "2TUpbO2PeYDh",
        "outputId": "df672466-f062-4672-f2ab-23513b2a9acb"
      },
      "source": [
        "# Plot confusion matrix\n",
        "\n",
        "# This function prints and plots the confusion matrix.\n",
        "# Normalization can be applied by setting 'normalize=True'.\n",
        "\n",
        "def plot_confusion_matrix(cm, classes, normalize=False, title='Confusion Matrix', cmap=plt.cm.Blues):\n",
        "  if normalize:\n",
        "    cm = cm.astype('float') / cm.sum(axis=1) [:, np.newaxis]\n",
        "    print (\"Normalizrd Confusion Matrix\")\n",
        "  else:\n",
        "        print (\"Confusion Matrix, without Normalization\")\n",
        "\n",
        "  print(cm)\n",
        "\n",
        "  plt.imshow(cm, interpolation='nearest', cmap=cmap)\n",
        "  plt.title(title)\n",
        "  plt.colorbar()\n",
        "  tick_marks = np.arange(len(classes))\n",
        "  plt.xticks(tick_marks, classes, rotation=45)\n",
        "  plt.yticks(tick_marks, classes)\n",
        "\n",
        "  fmt = '.2f' if normalize else 'd'\n",
        "  thresh = cm.max() / 2.\n",
        "  for i, j in itertools.product(range(cm.shape[0]), range(cm.shape[1])):\n",
        "    plt.text(j, i, format(cm[i, j], fmt), horizontalalignment='center', color='white' if cm[i, j] > thresh else 'black')\n",
        "\n",
        "  plt.tight_layout()\n",
        "  plt.ylabel('True label')\n",
        "  plt.xlabel('Predicted label')\n",
        "  plt.show()\n",
        "\n",
        "p_test = model.predict(x_test).argmax(axis=1)\n",
        "cm = confusion_matrix(y_test, p_test)\n",
        "plot_confusion_matrix(cm, list(range(10)))\n",
        "\n"
      ],
      "execution_count": 17,
      "outputs": [
        {
          "output_type": "stream",
          "text": [
            "Confusion Matrix, without Normalization\n",
            "[[800   2  22  22   4   1 145   0   4   0]\n",
            " [  4 977   1  11   3   0   2   0   2   0]\n",
            " [ 18   0 861   9  46   0  66   0   0   0]\n",
            " [ 11   7  20 915  23   1  19   0   3   1]\n",
            " [  1   0  77  30 837   0  55   0   0   0]\n",
            " [  0   0   0   0   0 970   0  16   0  14]\n",
            " [ 67   1  76  27  99   0 722   0   8   0]\n",
            " [  0   0   0   0   0  18   0 968   0  14]\n",
            " [  5   2   7   2   5   2  10   2 964   1]\n",
            " [  1   0   0   0   0   4   0  38   0 957]]\n"
          ],
          "name": "stdout"
        },
        {
          "output_type": "display_data",
          "data": {
            "image/png": "[encoded data removed]",
            "text/plain": [
              "<Figure size 432x288 with 2 Axes>"
            ]
          },
          "metadata": {
            "tags": [],
            "needs_background": "light"
          }
        }
      ]
    },
    {
      "cell_type": "code",
      "metadata": {
        "id": "uY1qCtDqflth"
      },
      "source": [
        "#Label Mapping\n",
        "\n",
        "labels = '''T-shirt/top\n",
        "Trouser\n",
        "Pullover\n",
        "Dress\n",
        "Coat\n",
        "Sandal\n",
        "Shirt\n",
        "Sneaker\n",
        "Bag\n",
        "Ankle boot'''.split()"
      ],
      "execution_count": 18,
      "outputs": []
    },
    {
      "cell_type": "markdown",
      "metadata": {
        "id": "JD2KMYEKhhoJ"
      },
      "source": [
        "It can be seen that the results make sense.\n",
        "The pairs that are easy to confuse are indeed fashion item whose visibility is very similar.\n",
        "For example:\n",
        "```\n",
        "T-shirt/top <--> shirt\n",
        "coat <--> shirt\n",
        "```\n",
        "\n",
        "\n",
        "\n"
      ]
    },
    {
      "cell_type": "code",
      "metadata": {
        "colab": {
          "base_uri": "https://localhost:8080/",
          "height": 281
        },
        "id": "hevJ1GrvgtnD",
        "outputId": "0c71cc93-a935-4455-e10a-a379919c56df"
      },
      "source": [
        "# Show some misclassified examples\n",
        "\n",
        "misclassified_index = np.where(p_test != y_test)[0]\n",
        "i = np.random.choice(misclassified_index)\n",
        "plt.imshow(x_test[i].reshape(28, 28), cmap='gray')\n",
        "plt.title(\"True label: %s Predicted: %s\" % (y_test[i], p_test[i]));"
      ],
      "execution_count": 22,
      "outputs": [
        {
          "output_type": "display_data",
          "data": {
            "image/png": "[encoded data removed]",
            "text/plain": [
              "<Figure size 432x288 with 1 Axes>"
            ]
          },
          "metadata": {
            "tags": [],
            "needs_background": "light"
          }
        }
      ]
    }
  ]
}
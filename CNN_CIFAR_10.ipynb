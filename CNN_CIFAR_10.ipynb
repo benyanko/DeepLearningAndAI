{
  "nbformat": 4,
  "nbformat_minor": 0,
  "metadata": {
    "colab": {
      "name": "CNN_CIFAR-10.ipynb",
      "provenance": [],
      "collapsed_sections": [],
      "authorship_tag": "ABX9TyP3qQyqVW/fmoc/R+3qag2R",
      "include_colab_link": true
    },
    "kernelspec": {
      "name": "python3",
      "display_name": "Python 3"
    },
    "accelerator": "GPU"
  },
  "cells": [
    {
      "cell_type": "markdown",
      "metadata": {
        "id": "view-in-github",
        "colab_type": "text"
      },
      "source": [
        "<a href=\"https://colab.research.google.com/github/benyanko/DeepLearningAndAI/blob/main/CNN_CIFAR_10.ipynb\" target=\"_parent\"><img src=\"https://colab.research.google.com/assets/colab-badge.svg\" alt=\"Open In Colab\"/></a>"
      ]
    },
    {
      "cell_type": "markdown",
      "metadata": {
        "id": "ysZ_HRVrj2h8"
      },
      "source": [
        "# **Image Classification using CNN**\n",
        "implementing a Deep Learning Model using CIFAR-10 dataset.\n",
        "It has 60,000 color images comprising of 10 different classes. The image size is 32x32 and the dataset has 50,000 training images and 10,000 test images.\n",
        "Take an input image and classify images to class.\n"
      ]
    },
    {
      "cell_type": "code",
      "metadata": {
        "id": "NhG2yFDrkqNL"
      },
      "source": [
        "import tensorflow as tf\n",
        "import numpy as np\n",
        "import matplotlib.pyplot as plt\n",
        "from tensorflow.keras.layers import Input, Conv2D, Dense, Flatten, Dropout, MaxPooling2D, BatchNormalization\n",
        "from tensorflow.keras.models import Model\n",
        "from sklearn.metrics import confusion_matrix\n",
        "import itertools"
      ],
      "execution_count": 7,
      "outputs": []
    },
    {
      "cell_type": "markdown",
      "metadata": {
        "id": "8fkQcXXpmkIV"
      },
      "source": [
        "# Load data"
      ]
    },
    {
      "cell_type": "code",
      "metadata": {
        "colab": {
          "base_uri": "https://localhost:8080/"
        },
        "id": "50Ki0bjPmoA0",
        "outputId": "99d9115a-5b26-42e1-a3ee-ddb10b71ad08"
      },
      "source": [
        "cifar10 = tf.keras.datasets.cifar10\n",
        "\n",
        "(x_train, y_train), (x_test, y_test) = cifar10.load_data() # data returns two tuple \n",
        "x_train, x_test = x_train / 255.0, x_test / 255.0 # Normalize values ​​in the range of 0 to 1 \n",
        "y_train, y_test = y_train.flatten(), y_test.flatten() # Target are 2D, so we flatten it\n",
        "print(\"x_train shape: \", x_train.shape) \n",
        "print(\"y train shape: \", y_train.shape)"
      ],
      "execution_count": 8,
      "outputs": [
        {
          "output_type": "stream",
          "text": [
            "x_train shape:  (50000, 32, 32, 3)\n",
            "y train shape:  (50000,)\n"
          ],
          "name": "stdout"
        }
      ]
    },
    {
      "cell_type": "code",
      "metadata": {
        "colab": {
          "base_uri": "https://localhost:8080/"
        },
        "id": "8DW_hUcxn6rN",
        "outputId": "d883dc9c-8152-41f4-ad3e-36b08b3d22df"
      },
      "source": [
        "# Number of classes\n",
        "\n",
        "K = len(set(y_train))\n",
        "print(\"Number of classes: \", K)"
      ],
      "execution_count": 9,
      "outputs": [
        {
          "output_type": "stream",
          "text": [
            "Number of classes:  10\n"
          ],
          "name": "stdout"
        }
      ]
    },
    {
      "cell_type": "markdown",
      "metadata": {
        "id": "ba7lXjdFoM3H"
      },
      "source": [
        "# Build The Model\n",
        "Build the model using the functional API"
      ]
    },
    {
      "cell_type": "code",
      "metadata": {
        "id": "1TQIR4lBoNgD"
      },
      "source": [
        "# We are using VGG architecture\n",
        "# conv -> batch -> pool -> dense -> output\n",
        "\n",
        "# Conv2D layer -\n",
        "# (Dimensionality of the output space,\n",
        "# Filter dimensions,\n",
        "# Activation func = ReLU - f(x)=max(0,x),\n",
        "# padding - mode(valid, same, full))\n",
        "\n",
        "# Batch Normalization - Applies a transformation that maintains the mean output close to 0 and the output standard deviation close to 1.\n",
        "\n",
        "# MaxPooling2D - Downsamples the input representation by taking the maximum value over the window.\n",
        "\n",
        "#Flatten layer - Convert the image to a feature vector\n",
        "\n",
        "# Dropout layer - Randomly sets input units to 0 with a frequency of rate at each step during training time, which helps prevent overfitting.\n",
        "\n",
        "# Dense layer with 512 units (hyperparameter selection) - dimensionality of the output space, activation ReLU - f(x)=max(0,x).\n",
        "\n",
        "# Dense layer with K units for our K clasess, activation 'Softmax' - output is therefore a probability distribution (maps our output to a [0,1] range).\n",
        "\n",
        "\n",
        "i = Input(shape=x_train[0].shape)\n",
        "\n",
        "x = Conv2D(32, (3, 3), activation='relu', padding='same')(i)\n",
        "x = BatchNormalization()(x)\n",
        "x = Conv2D(32, (3, 3), activation='relu', padding='same')(x)\n",
        "x = BatchNormalization()(x)\n",
        "x = MaxPooling2D((2, 2))(x)\n",
        "x = Conv2D(64, (3, 3), activation='relu', padding='same')(x)\n",
        "x = BatchNormalization()(x)\n",
        "x = Conv2D(64, (3, 3), activation='relu', padding='same')(x)\n",
        "x = BatchNormalization()(x)\n",
        "x = MaxPooling2D((2, 2))(x)\n",
        "x = Conv2D(128, (3, 3), activation='relu', padding='same')(x)\n",
        "x = BatchNormalization()(x)\n",
        "x = Conv2D(128, (3, 3), activation='relu', padding='same')(x)\n",
        "x = BatchNormalization()(x)\n",
        "x = MaxPooling2D((2, 2))(x)\n",
        "\n",
        "x = Flatten()(x)\n",
        "x = Dropout(0.2)(x)\n",
        "x = Dense(1024, activation='relu')(x)\n",
        "x = Dropout(0.2)(x)\n",
        "x = Dense(K, activation='softmax')(x)\n",
        "\n",
        "model = Model(i, x)"
      ],
      "execution_count": 11,
      "outputs": []
    },
    {
      "cell_type": "markdown",
      "metadata": {
        "id": "O-PnPd8zodDT"
      },
      "source": [
        "# Compile The Model"
      ]
    },
    {
      "cell_type": "code",
      "metadata": {
        "id": "7nj70FBKofYg"
      },
      "source": [
        "# Compile defines the loss function, the optimizer and the metrics.\n",
        "# Adam optimization is a stochastic gradient descent method.\n",
        "# Cost func is sparse_categorical_crossentropy because we expect labels to be provided as integers\n",
        "# Metric functions is accuracy which calculates how often predictions equal labels\n",
        "\n",
        "model.compile(optimizer='adam',\n",
        "              loss='sparse_categorical_crossentropy',\n",
        "              metrics=['accuracy'])"
      ],
      "execution_count": 13,
      "outputs": []
    },
    {
      "cell_type": "markdown",
      "metadata": {
        "id": "Yc9glSmpomen"
      },
      "source": [
        "#Train The Model"
      ]
    },
    {
      "cell_type": "code",
      "metadata": {
        "colab": {
          "base_uri": "https://localhost:8080/"
        },
        "id": "_Ud2Hv2voojl",
        "outputId": "c643ea76-cb4e-4825-e57f-34cd504a37e3"
      },
      "source": [
        "# Fit with data augmentation\n",
        "\n",
        "#Batch size - Number of images to include in each batch of training data\n",
        "\n",
        "#data_generator - Increase the diversity of data available for training models, without actually collecting new data. \n",
        "#train generator - Data_generator.flow is what actually return the generated data we need.\n",
        "#step per epoch - Total number of steps (batches of samples) to yield from generator before declaring one epoch finished and starting the next epoch\n",
        "\n",
        "# Validation data - x_test, y_test\n",
        "# epochs=50 - \"one pass over the entire dataset\", used to separate training into distinct phases\n",
        "\n",
        "batch_size = 32\n",
        "data_generator = tf.keras.preprocessing.image.ImageDataGenerator(width_shift_range=0.1, height_shift_range=0.1,\n",
        "                                                                 horizontal_flip=True)\n",
        "train_generator = data_generator.flow(x_train, y_train, batch_size)\n",
        "steps_per_epoch = x_train.shape[0] // batch_size\n",
        "\n",
        "r = model.fit(train_generator, validation_data=(x_test, y_test), steps_per_epoch=steps_per_epoch, epochs=50)"
      ],
      "execution_count": 15,
      "outputs": [
        {
          "output_type": "stream",
          "text": [
            "Epoch 1/50\n",
            "1562/1562 [==============================] - 37s 19ms/step - loss: 1.8071 - accuracy: 0.4176 - val_loss: 1.0828 - val_accuracy: 0.6331\n",
            "Epoch 2/50\n",
            "1562/1562 [==============================] - 29s 19ms/step - loss: 1.0367 - accuracy: 0.6361 - val_loss: 1.4068 - val_accuracy: 0.5467\n",
            "Epoch 3/50\n",
            "1562/1562 [==============================] - 29s 18ms/step - loss: 0.8720 - accuracy: 0.6989 - val_loss: 0.7754 - val_accuracy: 0.7406\n",
            "Epoch 4/50\n",
            "1562/1562 [==============================] - 29s 18ms/step - loss: 0.7624 - accuracy: 0.7384 - val_loss: 0.7997 - val_accuracy: 0.7304\n",
            "Epoch 5/50\n",
            "1562/1562 [==============================] - 28s 18ms/step - loss: 0.6856 - accuracy: 0.7627 - val_loss: 0.6722 - val_accuracy: 0.7745\n",
            "Epoch 6/50\n",
            "1562/1562 [==============================] - 29s 18ms/step - loss: 0.6330 - accuracy: 0.7832 - val_loss: 0.6655 - val_accuracy: 0.7811\n",
            "Epoch 7/50\n",
            "1562/1562 [==============================] - 29s 18ms/step - loss: 0.5953 - accuracy: 0.7985 - val_loss: 0.6032 - val_accuracy: 0.7934\n",
            "Epoch 8/50\n",
            "1562/1562 [==============================] - 29s 18ms/step - loss: 0.5512 - accuracy: 0.8123 - val_loss: 0.6253 - val_accuracy: 0.8014\n",
            "Epoch 9/50\n",
            "1562/1562 [==============================] - 29s 18ms/step - loss: 0.5252 - accuracy: 0.8219 - val_loss: 0.5822 - val_accuracy: 0.8046\n",
            "Epoch 10/50\n",
            "1562/1562 [==============================] - 28s 18ms/step - loss: 0.4961 - accuracy: 0.8280 - val_loss: 0.5509 - val_accuracy: 0.8154\n",
            "Epoch 11/50\n",
            "1562/1562 [==============================] - 29s 18ms/step - loss: 0.4690 - accuracy: 0.8408 - val_loss: 0.6068 - val_accuracy: 0.8040\n",
            "Epoch 12/50\n",
            "1562/1562 [==============================] - 28s 18ms/step - loss: 0.4482 - accuracy: 0.8466 - val_loss: 0.4886 - val_accuracy: 0.8339\n",
            "Epoch 13/50\n",
            "1562/1562 [==============================] - 28s 18ms/step - loss: 0.4220 - accuracy: 0.8543 - val_loss: 0.4325 - val_accuracy: 0.8553\n",
            "Epoch 14/50\n",
            "1562/1562 [==============================] - 28s 18ms/step - loss: 0.4052 - accuracy: 0.8598 - val_loss: 0.4874 - val_accuracy: 0.8394\n",
            "Epoch 15/50\n",
            "1562/1562 [==============================] - 28s 18ms/step - loss: 0.3953 - accuracy: 0.8647 - val_loss: 0.4921 - val_accuracy: 0.8350\n",
            "Epoch 16/50\n",
            "1562/1562 [==============================] - 28s 18ms/step - loss: 0.3815 - accuracy: 0.8699 - val_loss: 0.4513 - val_accuracy: 0.8507\n",
            "Epoch 17/50\n",
            "1562/1562 [==============================] - 28s 18ms/step - loss: 0.3601 - accuracy: 0.8757 - val_loss: 0.4336 - val_accuracy: 0.8525\n",
            "Epoch 18/50\n",
            "1562/1562 [==============================] - 28s 18ms/step - loss: 0.3478 - accuracy: 0.8792 - val_loss: 0.5060 - val_accuracy: 0.8349\n",
            "Epoch 19/50\n",
            "1562/1562 [==============================] - 28s 18ms/step - loss: 0.3462 - accuracy: 0.8849 - val_loss: 0.4094 - val_accuracy: 0.8673\n",
            "Epoch 20/50\n",
            "1562/1562 [==============================] - 28s 18ms/step - loss: 0.3254 - accuracy: 0.8882 - val_loss: 0.4266 - val_accuracy: 0.8618\n",
            "Epoch 21/50\n",
            "1562/1562 [==============================] - 28s 18ms/step - loss: 0.3059 - accuracy: 0.8962 - val_loss: 0.4156 - val_accuracy: 0.8643\n",
            "Epoch 22/50\n",
            "1562/1562 [==============================] - 28s 18ms/step - loss: 0.3171 - accuracy: 0.8906 - val_loss: 0.4648 - val_accuracy: 0.8543\n",
            "Epoch 23/50\n",
            "1562/1562 [==============================] - 28s 18ms/step - loss: 0.3064 - accuracy: 0.8953 - val_loss: 0.4007 - val_accuracy: 0.8668\n",
            "Epoch 24/50\n",
            "1562/1562 [==============================] - 28s 18ms/step - loss: 0.2895 - accuracy: 0.9004 - val_loss: 0.4117 - val_accuracy: 0.8641\n",
            "Epoch 25/50\n",
            "1562/1562 [==============================] - 28s 18ms/step - loss: 0.2877 - accuracy: 0.8997 - val_loss: 0.3898 - val_accuracy: 0.8713\n",
            "Epoch 26/50\n",
            "1562/1562 [==============================] - 28s 18ms/step - loss: 0.2757 - accuracy: 0.9075 - val_loss: 0.4095 - val_accuracy: 0.8732\n",
            "Epoch 27/50\n",
            "1562/1562 [==============================] - 28s 18ms/step - loss: 0.2706 - accuracy: 0.9048 - val_loss: 0.4252 - val_accuracy: 0.8677\n",
            "Epoch 28/50\n",
            "1562/1562 [==============================] - 28s 18ms/step - loss: 0.2588 - accuracy: 0.9111 - val_loss: 0.4269 - val_accuracy: 0.8634\n",
            "Epoch 29/50\n",
            "1562/1562 [==============================] - 28s 18ms/step - loss: 0.2507 - accuracy: 0.9139 - val_loss: 0.3875 - val_accuracy: 0.8748\n",
            "Epoch 30/50\n",
            "1562/1562 [==============================] - 28s 18ms/step - loss: 0.2385 - accuracy: 0.9185 - val_loss: 0.4091 - val_accuracy: 0.8692\n",
            "Epoch 31/50\n",
            "1562/1562 [==============================] - 28s 18ms/step - loss: 0.2348 - accuracy: 0.9184 - val_loss: 0.3984 - val_accuracy: 0.8755\n",
            "Epoch 32/50\n",
            "1562/1562 [==============================] - 29s 18ms/step - loss: 0.2341 - accuracy: 0.9185 - val_loss: 0.4077 - val_accuracy: 0.8779\n",
            "Epoch 33/50\n",
            "1562/1562 [==============================] - 29s 18ms/step - loss: 0.2296 - accuracy: 0.9203 - val_loss: 0.4092 - val_accuracy: 0.8727\n",
            "Epoch 34/50\n",
            "1562/1562 [==============================] - 28s 18ms/step - loss: 0.2336 - accuracy: 0.9191 - val_loss: 0.3959 - val_accuracy: 0.8791\n",
            "Epoch 35/50\n",
            "1562/1562 [==============================] - 29s 18ms/step - loss: 0.2281 - accuracy: 0.9218 - val_loss: 0.4113 - val_accuracy: 0.8732\n",
            "Epoch 36/50\n",
            "1562/1562 [==============================] - 28s 18ms/step - loss: 0.2229 - accuracy: 0.9239 - val_loss: 0.3977 - val_accuracy: 0.8782\n",
            "Epoch 37/50\n",
            "1562/1562 [==============================] - 28s 18ms/step - loss: 0.2202 - accuracy: 0.9237 - val_loss: 0.4321 - val_accuracy: 0.8763\n",
            "Epoch 38/50\n",
            "1562/1562 [==============================] - 28s 18ms/step - loss: 0.2107 - accuracy: 0.9268 - val_loss: 0.4261 - val_accuracy: 0.8719\n",
            "Epoch 39/50\n",
            "1562/1562 [==============================] - 28s 18ms/step - loss: 0.2088 - accuracy: 0.9287 - val_loss: 0.4526 - val_accuracy: 0.8585\n",
            "Epoch 40/50\n",
            "1562/1562 [==============================] - 28s 18ms/step - loss: 0.2083 - accuracy: 0.9292 - val_loss: 0.3827 - val_accuracy: 0.8842\n",
            "Epoch 41/50\n",
            "1562/1562 [==============================] - 28s 18ms/step - loss: 0.2043 - accuracy: 0.9288 - val_loss: 0.4195 - val_accuracy: 0.8767\n",
            "Epoch 42/50\n",
            "1562/1562 [==============================] - 28s 18ms/step - loss: 0.1967 - accuracy: 0.9335 - val_loss: 0.3856 - val_accuracy: 0.8798\n",
            "Epoch 43/50\n",
            "1562/1562 [==============================] - 28s 18ms/step - loss: 0.1960 - accuracy: 0.9330 - val_loss: 0.4059 - val_accuracy: 0.8770\n",
            "Epoch 44/50\n",
            "1562/1562 [==============================] - 29s 18ms/step - loss: 0.1933 - accuracy: 0.9336 - val_loss: 0.3905 - val_accuracy: 0.8821\n",
            "Epoch 45/50\n",
            "1562/1562 [==============================] - 28s 18ms/step - loss: 0.1928 - accuracy: 0.9342 - val_loss: 0.3934 - val_accuracy: 0.8823\n",
            "Epoch 46/50\n",
            "1562/1562 [==============================] - 28s 18ms/step - loss: 0.1953 - accuracy: 0.9318 - val_loss: 0.4024 - val_accuracy: 0.8817\n",
            "Epoch 47/50\n",
            "1562/1562 [==============================] - 28s 18ms/step - loss: 0.1902 - accuracy: 0.9347 - val_loss: 0.3991 - val_accuracy: 0.8803\n",
            "Epoch 48/50\n",
            "1562/1562 [==============================] - 28s 18ms/step - loss: 0.1876 - accuracy: 0.9347 - val_loss: 0.4773 - val_accuracy: 0.8726\n",
            "Epoch 49/50\n",
            "1562/1562 [==============================] - 28s 18ms/step - loss: 0.1818 - accuracy: 0.9370 - val_loss: 0.4276 - val_accuracy: 0.8799\n",
            "Epoch 50/50\n",
            "1562/1562 [==============================] - 28s 18ms/step - loss: 0.1799 - accuracy: 0.9383 - val_loss: 0.4018 - val_accuracy: 0.8847\n"
          ],
          "name": "stdout"
        }
      ]
    },
    {
      "cell_type": "markdown",
      "metadata": {
        "id": "UHA7aNIhqNWM"
      },
      "source": [
        "# Plots"
      ]
    },
    {
      "cell_type": "code",
      "metadata": {
        "colab": {
          "base_uri": "https://localhost:8080/",
          "height": 282
        },
        "id": "lRIbiKYPqSNW",
        "outputId": "89272b23-ca39-434f-bf47-3aa84af6f309"
      },
      "source": [
        "# Plot loss per iteration\n",
        "\n",
        "plt.plot(r.history['loss'], label='loss')\n",
        "plt.plot(r.history['val_loss'], label='val_loss')\n",
        "plt.legend()"
      ],
      "execution_count": 16,
      "outputs": [
        {
          "output_type": "execute_result",
          "data": {
            "text/plain": [
              "<matplotlib.legend.Legend at 0x7f851ffcc160>"
            ]
          },
          "metadata": {
            "tags": []
          },
          "execution_count": 16
        },
        {
          "output_type": "display_data",
          "data": {
            "image/png": "[encoded data removed]",
            "text/plain": [
              "<Figure size 432x288 with 1 Axes>"
            ]
          },
          "metadata": {
            "tags": [],
            "needs_background": "light"
          }
        }
      ]
    },
    {
      "cell_type": "code",
      "metadata": {
        "colab": {
          "base_uri": "https://localhost:8080/",
          "height": 282
        },
        "id": "O615WFptqU6S",
        "outputId": "ac3601ce-4673-4bd5-fbb9-1eb373d17600"
      },
      "source": [
        "#plot accuracy per iteration\n",
        "\n",
        "plt.plot(r.history['accuracy'], label='accuracy')\n",
        "plt.plot(r.history['val_accuracy'], label='val_accuracy')\n",
        "plt.legend()"
      ],
      "execution_count": 17,
      "outputs": [
        {
          "output_type": "execute_result",
          "data": {
            "text/plain": [
              "<matplotlib.legend.Legend at 0x7f851f9deda0>"
            ]
          },
          "metadata": {
            "tags": []
          },
          "execution_count": 17
        },
        {
          "output_type": "display_data",
          "data": {
            "image/png": "[encoded data removed]",
            "text/plain": [
              "<Figure size 432x288 with 1 Axes>"
            ]
          },
          "metadata": {
            "tags": [],
            "needs_background": "light"
          }
        }
      ]
    },
    {
      "cell_type": "code",
      "metadata": {
        "colab": {
          "base_uri": "https://localhost:8080/",
          "height": 498
        },
        "id": "cPwMM3yeqitM",
        "outputId": "74f371b4-afea-47d0-96ca-e1475ecd8be8"
      },
      "source": [
        "# Plot confusion matrix\n",
        "\n",
        "# This function prints and plots the confusion matrix.\n",
        "# Normalization can be applied by setting 'normalize=True'.\n",
        "\n",
        "def plot_confusion_matrix(cm, classes, normalize=False, title='Confusion Matrix', cmap=plt.cm.Blues):\n",
        "  if normalize:\n",
        "    cm = cm.astype('float') / cm.sum(axis=1) [:, np.newaxis]\n",
        "    print (\"Normalizrd Confusion Matrix\")\n",
        "  else:\n",
        "        print (\"Confusion Matrix, without Normalization\")\n",
        "\n",
        "  print(cm)\n",
        "\n",
        "  plt.imshow(cm, interpolation='nearest', cmap=cmap)\n",
        "  plt.title(title)\n",
        "  plt.colorbar()\n",
        "  tick_marks = np.arange(len(classes))\n",
        "  plt.xticks(tick_marks, classes, rotation=45)\n",
        "  plt.yticks(tick_marks, classes)\n",
        "\n",
        "  fmt = '.2f' if normalize else 'd'\n",
        "  thresh = cm.max() / 2.\n",
        "  for i, j in itertools.product(range(cm.shape[0]), range(cm.shape[1])):\n",
        "    plt.text(j, i, format(cm[i, j], fmt), horizontalalignment='center', color='white' if cm[i, j] > thresh else 'black')\n",
        "\n",
        "  plt.tight_layout()\n",
        "  plt.ylabel('True label')\n",
        "  plt.xlabel('Predicted label')\n",
        "  plt.show()\n",
        "\n",
        "p_test = model.predict(x_test).argmax(axis=1)\n",
        "cm = confusion_matrix(y_test, p_test)\n",
        "plot_confusion_matrix(cm, list(range(10)))\n",
        "\n"
      ],
      "execution_count": 18,
      "outputs": [
        {
          "output_type": "stream",
          "text": [
            "Confusion Matrix, without Normalization\n",
            "[[916   7  17  11   2   0   4   4  26  13]\n",
            " [  1 973   1   0   1   0   1   0   6  17]\n",
            " [ 31   0 833  40  19  14  45   9   5   4]\n",
            " [  8   3  29 816  22  53  37  17   7   8]\n",
            " [  7   1  33  41 850  10  32  20   2   4]\n",
            " [  7   1  16 173  16 748  13  19   3   4]\n",
            " [  5   0  16  27   5   3 942   0   1   1]\n",
            " [ 10   3  10  25  15  12   1 921   1   2]\n",
            " [ 35  17   3   3   0   0   1   2 927  12]\n",
            " [ 14  50   2   4   0   0   2   1   6 921]]\n"
          ],
          "name": "stdout"
        },
        {
          "output_type": "display_data",
          "data": {
            "image/png": "[encoded data removed]",
            "text/plain": [
              "<Figure size 432x288 with 2 Axes>"
            ]
          },
          "metadata": {
            "tags": [],
            "needs_background": "light"
          }
        }
      ]
    },
    {
      "cell_type": "code",
      "metadata": {
        "id": "UjGdllmGqtWb"
      },
      "source": [
        "#Label Mapping\n",
        "\n",
        "labels = '''Airplane\n",
        "Automobile\n",
        "Bird\n",
        "Cat\n",
        "Deer\n",
        "Dog\n",
        "Frog\n",
        "Horse\n",
        "Ship\n",
        "TRUCK'''.split()"
      ],
      "execution_count": 5,
      "outputs": []
    },
    {
      "cell_type": "markdown",
      "metadata": {
        "id": "kwZpL2DMQBo5"
      },
      "source": [
        "It can be seen that the results make sense.\n",
        "The pairs that are easy to confuse are indeed images whose visibility is very similar.\n",
        "For example:\n",
        "```\n",
        "Dog <--> Cat\n",
        "Horse <--> Deer\n",
        "```\n",
        "\n",
        "\n",
        "\n"
      ]
    },
    {
      "cell_type": "code",
      "metadata": {
        "colab": {
          "base_uri": "https://localhost:8080/",
          "height": 281
        },
        "id": "qJKI6wclq-B0",
        "outputId": "1acd9d4d-9563-4a5d-c280-4288d04a550e"
      },
      "source": [
        "# Show some misclassified examples\n",
        "\n",
        "misclassified_index = np.where(p_test != y_test)[0]\n",
        "i = np.random.choice(misclassified_index)\n",
        "plt.imshow(x_test[i], cmap='gray')\n",
        "plt.title(\"True label: %s Predicted: %s\" % (y_test[i], p_test[i]));"
      ],
      "execution_count": 30,
      "outputs": [
        {
          "output_type": "display_data",
          "data": {
            "image/png": "[encoded data removed]",
            "text/plain": [
              "<Figure size 432x288 with 1 Axes>"
            ]
          },
          "metadata": {
            "tags": [],
            "needs_background": "light"
          }
        }
      ]
    },
    {
      "cell_type": "code",
      "metadata": {
        "colab": {
          "base_uri": "https://localhost:8080/"
        },
        "id": "xnVtFYCNQVlP",
        "outputId": "f02bed07-83ee-4e48-e942-cc307884363e"
      },
      "source": [
        "model.summary()"
      ],
      "execution_count": 33,
      "outputs": [
        {
          "output_type": "stream",
          "text": [
            "Model: \"model\"\n",
            "_________________________________________________________________\n",
            "Layer (type)                 Output Shape              Param #   \n",
            "=================================================================\n",
            "input_3 (InputLayer)         [(None, 32, 32, 3)]       0         \n",
            "_________________________________________________________________\n",
            "conv2d_3 (Conv2D)            (None, 32, 32, 32)        896       \n",
            "_________________________________________________________________\n",
            "batch_normalization_2 (Batch (None, 32, 32, 32)        128       \n",
            "_________________________________________________________________\n",
            "conv2d_4 (Conv2D)            (None, 32, 32, 32)        9248      \n",
            "_________________________________________________________________\n",
            "batch_normalization_3 (Batch (None, 32, 32, 32)        128       \n",
            "_________________________________________________________________\n",
            "max_pooling2d (MaxPooling2D) (None, 16, 16, 32)        0         \n",
            "_________________________________________________________________\n",
            "conv2d_5 (Conv2D)            (None, 16, 16, 64)        18496     \n",
            "_________________________________________________________________\n",
            "batch_normalization_4 (Batch (None, 16, 16, 64)        256       \n",
            "_________________________________________________________________\n",
            "conv2d_6 (Conv2D)            (None, 16, 16, 64)        36928     \n",
            "_________________________________________________________________\n",
            "batch_normalization_5 (Batch (None, 16, 16, 64)        256       \n",
            "_________________________________________________________________\n",
            "max_pooling2d_1 (MaxPooling2 (None, 8, 8, 64)          0         \n",
            "_________________________________________________________________\n",
            "conv2d_7 (Conv2D)            (None, 8, 8, 128)         73856     \n",
            "_________________________________________________________________\n",
            "batch_normalization_6 (Batch (None, 8, 8, 128)         512       \n",
            "_________________________________________________________________\n",
            "conv2d_8 (Conv2D)            (None, 8, 8, 128)         147584    \n",
            "_________________________________________________________________\n",
            "batch_normalization_7 (Batch (None, 8, 8, 128)         512       \n",
            "_________________________________________________________________\n",
            "max_pooling2d_2 (MaxPooling2 (None, 4, 4, 128)         0         \n",
            "_________________________________________________________________\n",
            "flatten (Flatten)            (None, 2048)              0         \n",
            "_________________________________________________________________\n",
            "dropout (Dropout)            (None, 2048)              0         \n",
            "_________________________________________________________________\n",
            "dense (Dense)                (None, 1024)              2098176   \n",
            "_________________________________________________________________\n",
            "dropout_1 (Dropout)          (None, 1024)              0         \n",
            "_________________________________________________________________\n",
            "dense_1 (Dense)              (None, 10)                10250     \n",
            "=================================================================\n",
            "Total params: 2,397,226\n",
            "Trainable params: 2,396,330\n",
            "Non-trainable params: 896\n",
            "_________________________________________________________________\n"
          ],
          "name": "stdout"
        }
      ]
    }
  ]
}